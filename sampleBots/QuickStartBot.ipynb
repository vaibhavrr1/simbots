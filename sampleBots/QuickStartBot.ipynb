{
 "cells": [
  {
   "cell_type": "markdown",
   "metadata": {},
   "source": [
    "## Quick Start Bot\n",
    "\n",
    "\n",
    "lets build a bot to answer two simple questions\n",
    "\n",
    "1) Who are you ?\n",
    "\n",
    "2) What is your age ?"
   ]
  },
  {
   "cell_type": "code",
   "execution_count": 1,
   "metadata": {},
   "outputs": [],
   "source": [
    "# Declare Intents here\n",
    "\n",
    "import json\n",
    "\n",
    "intentExamples = {\n",
    "    'Greetings': [\n",
    "        'Hello !',\n",
    "        'Hi , How are you ?',\n",
    "        'Hey !! ',\n",
    "        'Namaste ',\n",
    "        'Good day',\n",
    "        'Good evening',\n",
    "        'Good morning',\n",
    "        'Good to see you',\n",
    "        'Greetings',\n",
    "        'Have you been well?',\n",
    "        'Hello Agent',\n",
    "        'Hello',\n",
    "        'Hello I am looking for some help here',\n",
    "        'Hey how are you doing',\n",
    "        'Hey there all',\n",
    "        'Hey there',\n",
    "        'Hey twin',\n",
    "        'Hey you',\n",
    "        'Hi advisor',\n",
    "        'Hi there',\n",
    "        'How are things going?',\n",
    "        'How are you today?',\n",
    "        'How have you been?',\n",
    "        'How is it going?',\n",
    "        'How r u?',\n",
    "        'Looking good eve',\n",
    "        'take me back',\n",
    "        \"What's new?\",\n",
    "        \"What's up?\",\n",
    "        'Who is this?',\n",
    "        'You there',\n",
    "        'Namaste',\n",
    "        'satsriyakaal',\n",
    "        'helo',\n",
    "        'hiiiiiii',\n",
    "        'abe oye',\n",
    "        ' sup ',\n",
    "        ' wassup bruh ',\n",
    "        ' sup bro ',\n",
    "        ' ssssup mate whats up',\n",
    "    ],\n",
    "    'BotName': [\n",
    "        'Who are you',\n",
    "        'Who are you ?',\n",
    "        'What is your Name ?',\n",
    "        'What is your name ',\n",
    "        'what should i call you ?',\n",
    "        'What should i call you',\n",
    "        'How to address you ?',\n",
    "        'how  to address you by name',\n",
    "        'what is your name in english',\n",
    "        'call you',\n",
    "        'your name',\n",
    "        'call you ?',\n",
    "        'your name ?',\n",
    "        'whom are you',\n",
    "        'whom are you referred as',\n",
    "    ],\n",
    "\n",
    "    'Irrelevant': ['the weather is fine todaythe sun rises in the east'\n",
    "        , 'the quick brown fox jumps over the red carpet',\n",
    "                   'This is random irrelevant text',\n",
    "                   'What is love , baby dont hurt me ',\n",
    "                   ],\n",
    "}"
   ]
  },
  {
   "cell_type": "code",
   "execution_count": 2,
   "metadata": {},
   "outputs": [],
   "source": [
    "# or equivalently\n",
    "\n",
    "from simbots.utils.builtInIntents import IntentSamples\n",
    "\n",
    "intentExamples = {\n",
    " 'Greetings': IntentSamples.greetingSamples(),\n",
    " 'BotName': IntentSamples.botNameSamples(),\n",
    " 'Irrelevant': ['the weather is fine today','the sun rises in the east','the quick brown fox jumps over the red carpet',\n",
    "                'the sun rises in the east',\n",
    "                'What is love , baby dont hurt me ',\n",
    "                'this is a new dawn a new day']\n",
    " }"
   ]
  },
  {
   "cell_type": "code",
   "execution_count": 3,
   "metadata": {},
   "outputs": [],
   "source": [
    "# Now Declaring Entites\n",
    "\n",
    "\n",
    "entityExamples = {\n",
    " \"GreetingsHelper\": {\n",
    "     \"wsup\": [\n",
    "         {\n",
    "             \"tag\": \"case-insensitive\",\n",
    "             \"pattern\": \"\\s[w]*[a]*[s] [u] [p] \\s\",\n",
    "             \"type\": \"regex\",\n",
    "         }\n",
    "     ],\n",
    "     \"hi\": [{\"tag\": \"case-insensitive\", \"pattern\": \"\\s[h] [i] \\s\", \"type\": \"regex\"}],\n",
    "     \"hello\": [\n",
    "         {\n",
    "             \"tag\": \"case-insensitive\",\n",
    "             \"pattern\": \"\\s[h] [e] [l] [o] \\s\",\n",
    "             \"type\": \"regex\",\n",
    "         }\n",
    "     ],\n",
    " }}\n",
    "\n"
   ]
  },
  {
   "cell_type": "code",
   "execution_count": 4,
   "metadata": {},
   "outputs": [],
   "source": [
    "# Or Equivalently\n",
    "\n",
    "from simbots.utils.builtInEntities import EntitySamples\n",
    "\n",
    "entityExamples = {\n",
    " 'GreetingsHelper': EntitySamples.greetingsHelper(),\n",
    " }"
   ]
  },
  {
   "cell_type": "code",
   "execution_count": 5,
   "metadata": {},
   "outputs": [],
   "source": [
    "# Declaring how the bot should respond"
   ]
  },
  {
   "cell_type": "code",
   "execution_count": 6,
   "metadata": {},
   "outputs": [],
   "source": [
    "botMessages = {\n",
    "    \"themeBasic\": {\n",
    "        \"Greetings\": {\n",
    "            \"basic\": [\n",
    "                \"Hello ! What can i do for you ?\",\n",
    "                \"Hi there ! what can I do for you ?\",\n",
    "                \"Hello\",\n",
    "            ]\n",
    "        },\n",
    "        \"BotName\": {\"basic\": [\"I am riko\", \"You can call me riko\"]},\n",
    "        \"Irrelevant\": {\n",
    "            \"basic\": [\n",
    "                \"Im sorry Im not getting you :( \",\n",
    "                \"Im sorry could you please rephrase ?\",\n",
    "            ]\n",
    "        },\n",
    "    },\n",
    "    \"funky\": {\n",
    "        \"Greetings\": {\n",
    "            \"basic\": [\"Hey Yo Wassup Bro What can i do for ya ?\", \"Heyo what ya want ?\"]\n",
    "        },\n",
    "        \"BotName\": {\"basic\": [\"Yo Im Riko ! \"]},\n",
    "    },\n",
    "    \"cowboy\": {\n",
    "        \"Greetings\": {\n",
    "            \"basic\": [\n",
    "                \"Howdy partner what can i do for you greenhorn\",\n",
    "                \" Howdy ! Pleasure meeting ya ?\",\n",
    "            ]\n",
    "        },\n",
    "        \"BotName\": {\n",
    "            \"basic\": [\"Howdy Partner , Im Riko  \"]\n",
    "        },\n",
    "    },\n",
    "}"
   ]
  },
  {
   "cell_type": "code",
   "execution_count": 7,
   "metadata": {},
   "outputs": [],
   "source": [
    "from simbots.Bot import Bot\n",
    "\n",
    "newB = Bot(intentExamples, entityExamples, botMessages,\n",
    "              confidenceLimit=0)"
   ]
  },
  {
   "cell_type": "code",
   "execution_count": 8,
   "metadata": {},
   "outputs": [
    {
     "name": "stdout",
     "output_type": "stream",
     "text": [
      "Type in @@ to exit bot\n",
      "@i to get intents\n",
      "@c to get context \n",
      "@e to get entities\n",
      "@t to add a test case\n",
      "@etc to evaluate a test case\n",
      "@eatc to evaluate all test cases\n",
      "@ti to add intent\n",
      "<1> User : Hi\n",
      "<1> themeBasicBot : Hi there ! what can I do for you ?\n",
      "<2> User : Who are you ?\n",
      "<2> themeBasicBot : I am riko\n",
      "<3> User : hello \n",
      "<3> themeBasicBot : Hi there ! what can I do for you ?\n",
      "<4> User : do you know me \n",
      "<4> themeBasicBot : You can call me riko\n",
      "<5> User : get me a pizza\n",
      "<5> themeBasicBot : Im sorry Im not getting you :( \n",
      "<6> User : @@\n"
     ]
    }
   ],
   "source": [
    "newB.run(theme=\"themeBasic\")"
   ]
  },
  {
   "cell_type": "code",
   "execution_count": 9,
   "metadata": {},
   "outputs": [
    {
     "name": "stdout",
     "output_type": "stream",
     "text": [
      "I am riko\n"
     ]
    }
   ],
   "source": [
    "output = newB.getBotOutput(\"hi who are you ?\",outputTheme =\"themeBasic\")\n",
    "print(output)"
   ]
  },
  {
   "cell_type": "code",
   "execution_count": null,
   "metadata": {},
   "outputs": [],
   "source": []
  }
 ],
 "metadata": {
  "kernelspec": {
   "display_name": "condagpu",
   "language": "python",
   "name": "condagpu"
  },
  "language_info": {
   "codemirror_mode": {
    "name": "ipython",
    "version": 3
   },
   "file_extension": ".py",
   "mimetype": "text/x-python",
   "name": "python",
   "nbconvert_exporter": "python",
   "pygments_lexer": "ipython3",
   "version": "3.7.7"
  }
 },
 "nbformat": 4,
 "nbformat_minor": 4
}
